{
  "nbformat": 4,
  "nbformat_minor": 0,
  "metadata": {
    "colab": {
      "provenance": []
    },
    "kernelspec": {
      "name": "python3",
      "display_name": "Python 3"
    },
    "language_info": {
      "name": "python"
    }
  },
  "cells": [
    {
      "cell_type": "markdown",
      "source": [
        "# **Python Basics**"
      ],
      "metadata": {
        "id": "r2Ha7qYIU6P5"
      }
    },
    {
      "cell_type": "markdown",
      "source": [
        " **1**.What is Python, and why is it popular?\n",
        "\n",
        "\n",
        "\n",
        "   ->Python is a **high-level, interpreted programming language** known for its **simplicity, readability**, and **versatility**. It was created by **Guido van Rossum** and first released in **1991**. Python supports **object-oriented, procedural**, and **functional programming paradigms**.\n",
        "\n",
        "---\n",
        "\n",
        "\n",
        "Python is widely used for many reasons:\n",
        "\n",
        "###  1. **Simple and Readable Syntax**\n",
        "\n",
        "* Its code is easy to read and write — often compared to plain English.\n",
        "* Great for beginners and experienced developers.\n",
        "\n",
        "### 2. **Versatile Use Cases**\n",
        "\n",
        "Python is used in many fields:\n",
        "\n",
        "* **Web Development** (Django, Flask)\n",
        "* **Data Science and Analytics** (Pandas, NumPy)\n",
        "* **Machine Learning & AI** (TensorFlow, Scikit-learn)\n",
        "* **Automation & Scripting**\n",
        "* **Cybersecurity, Game Dev, IoT**, and more\n",
        "\n",
        "###  3. **Large Community and Libraries**\n",
        "\n",
        "* A huge community offers support.\n",
        "* Thousands of libraries and frameworks speed up development.\n",
        "\n",
        "###  4. **Cross-Platform**\n",
        "\n",
        "* Works on Windows, Mac, Linux — write once, run anywhere.\n",
        "\n",
        "###  5. **Used by Top Companies**\n",
        "\n",
        "* Google, YouTube, Instagram, Netflix, and NASA use Python."
      ],
      "metadata": {
        "id": "uQNEKQ6RFLFb"
      }
    },
    {
      "cell_type": "markdown",
      "source": [
        "**2**.What is an interpreter in Pythom?\n",
        "\n",
        "  ->An **interpreter** in Python is a **program** that reads and **executes Python code line by line**, converting it into **machine-readable instructions** at runtime.\n",
        "\n"
      ],
      "metadata": {
        "id": "Gt_lCSPdGDao"
      }
    },
    {
      "cell_type": "markdown",
      "source": [
        "**3**. What are pre-defined keywords in Python?\n",
        "\n",
        "Pre-defined keywords in Python are reserved words that have special meanings in the language.\n",
        "You cannot use them as variable names, function names, or identifiers."
      ],
      "metadata": {
        "id": "R2USLXinG3R7"
      }
    },
    {
      "cell_type": "markdown",
      "source": [
        "**4**.Can keywords be used as variable names?\n",
        "\n",
        "  ->Keywords are reserved words that Python uses to define the syntax and structure of the language.\n",
        "  Using them as variable names would confuse the interpreter and lead to a syntax error."
      ],
      "metadata": {
        "id": "28L0rxFBHOq8"
      }
    },
    {
      "cell_type": "markdown",
      "source": [
        "**5**. What is mutability in Python?\n",
        "\n",
        "   ->Mutability refers to whether an object’s value can be changed after it is created."
      ],
      "metadata": {
        "id": "34R4s35pHqPa"
      }
    },
    {
      "cell_type": "markdown",
      "source": [
        "**6**. Why are lists mutable, but tuples are immutable?\n",
        "\n",
        "   ->The difference comes from how Python **designs** these data types and what they are **intended** to be used for.\n",
        "\n",
        "---\n",
        "\n",
        "###  **1. Lists are Mutable (Can Be Changed)**\n",
        "\n",
        "* **Designed to store data that may change** (add, remove, update).\n",
        "* Internally, lists store **references** to objects and allow **in-place modification**.\n",
        "\n",
        "#### Example:\n",
        "\n",
        "```python\n",
        "my_list = [1, 2, 3]\n",
        "my_list[0] = 100      #  Allowed\n",
        "print(my_list)        # Output: [100, 2, 3]\n",
        "```\n",
        "\n",
        "---\n",
        "\n",
        "###  **2. Tuples are Immutable (Cannot Be Changed)**\n",
        "\n",
        "* Tuples are used when you want to **protect data from changes**.\n",
        "* Python prevents modifications to ensure the data remains **constant**.\n",
        "* Internally, tuples do **not allow changing size or elements** once created.\n",
        "\n",
        "#### Example:\n",
        "\n",
        "```python\n",
        "my_tuple = (1, 2, 3)\n",
        "my_tuple[0] = 100      #  Error: tuple' object does not support item assignment"
      ],
      "metadata": {
        "id": "5cd17yB8IEq1"
      }
    },
    {
      "cell_type": "markdown",
      "source": [
        "**7**, What is the difference between “==” and “is” operators in Python?\n",
        "\n",
        "   -> **Difference Between == and is Operators in Python**\n",
        "Both == and is are comparison operators, but they check different things.\n",
        "\n",
        " **== → Equality Operator**\n",
        "Checks if the values of two variables are equal.\n",
        "\n",
        "Compares contents.\n",
        "\n",
        "Example:\n",
        "python\n",
        "Copy\n",
        "Edit\n",
        "a = [1, 2, 3]\n",
        "b = [1, 2, 3]\n",
        "print(a == b)   #  True → Values are equal\n",
        "\n",
        "\n",
        " **is → Identity Operator**\n",
        "Checks if two variables refer to the same object in memory.\n",
        "\n",
        "Compares object identity.\n",
        "\n",
        "Example:\n",
        "python\n",
        "Copy\n",
        "Edit\n",
        "a = [1, 2, 3]\n",
        "b = [1, 2, 3]\n",
        "print(a is b)   #  False → Different objects (even if values are same)\n"
      ],
      "metadata": {
        "id": "_GjnlxW1JPyy"
      }
    },
    {
      "cell_type": "markdown",
      "source": [
        "**8**. What are logical operators in Python?\n",
        "\n",
        "   ->Logical operators are used to combine multiple conditions and return a Boolean value: True or False."
      ],
      "metadata": {
        "id": "-E-0jCHKLBrA"
      }
    },
    {
      "cell_type": "markdown",
      "source": [
        "**9**. What is type casting in Python?\n",
        "\n",
        "  ->Type casting in Python means converting one data type into another — for example, converting a string to an integer, or an integer to a float.\n",
        "\n",
        "\n",
        "\n"
      ],
      "metadata": {
        "id": "ekJBaK8JLmtA"
      }
    },
    {
      "cell_type": "markdown",
      "source": [
        "**11**. What is the purpose of conditional statements in Python?\n",
        "\n",
        "  ->Conditional statements in Python are used to make decisions in your code — they allow the program to choose different paths based on conditions (True or False)."
      ],
      "metadata": {
        "id": "aBizfxKJMAyB"
      }
    },
    {
      "cell_type": "markdown",
      "source": [
        "**12**. How does the elif statement work?\n",
        "\n",
        "  ->The elif (short for \"else if\") statement in Python is used to check multiple conditions in a clean and readable way."
      ],
      "metadata": {
        "id": "HTPY-bRzMqsA"
      }
    },
    {
      "cell_type": "markdown",
      "source": [
        "13. What is the difference between for and while loops?\n",
        "\n",
        "   ->Both for and while loops are used to repeat a block of code, but they are used in different situations based on how and when you want the loop to run."
      ],
      "metadata": {
        "id": "00ZVIRyHM_uQ"
      }
    },
    {
      "cell_type": "markdown",
      "source": [
        "# **Practical Qustions **"
      ],
      "metadata": {
        "id": "mFNHMfq8OXqC"
      }
    },
    {
      "cell_type": "markdown",
      "source": [
        "**1**. Write a Python program to print \"Hello, World!\n",
        "\n",
        "   -> Python program to print **\"Hello, World!\"**:\n",
        "\n",
        "```python\n",
        "# This is a basic Python program\n",
        "print(\"Hello, World!\")\n",
        "```\n",
        "\n",
        "###  How to Run It:\n",
        "\n",
        "1. Save this code in a file named `hello.py`\n",
        "2. Open your terminal or command prompt\n",
        "3. Run the file using:\n",
        "\n",
        "```bash\n",
        "python hello.py\n",
        "```\n",
        "\n",
        " Output:\n",
        "\n",
        "```\n",
        "Hello, World!\n",
        "```\n",
        "\n"
      ],
      "metadata": {
        "id": "rD2Sbz78PCFH"
      }
    },
    {
      "cell_type": "markdown",
      "source": [
        "**2**. Write a Python program that displays your name and age.\n",
        "\n",
        "   -> Python program that displays your **name and age**:\n",
        "\n",
        "```python\n",
        "# Program to display your name and age\n",
        "\n",
        "name = \"Rahmat Hussain\"\n",
        "age = 19\n",
        "\n",
        "print(\"My name is\", name)\n",
        "print(\"I am\", age, \"years old\")\n",
        "```\n",
        "\n",
        "---\n",
        "\n",
        "# **[Output:](https://)**\n",
        "\n",
        "```\n",
        "My name is Rahmat Hussain\n",
        "I am 19 years old\n",
        "```\n",
        "\n"
      ],
      "metadata": {
        "id": "gfNu2IAXPiN4"
      }
    },
    {
      "cell_type": "markdown",
      "source": [
        "**3**. Write code to print all the pre-defined keywords in Python using the keyword library?\n",
        "\n",
        "   ->Python program that prints all the **pre-defined keywords** using the `keyword` module:\n",
        "\n",
        "```python\n",
        "# Importing the keyword module\n",
        "import keyword\n",
        "\n",
        "# Get the list of all keywords\n",
        "keywords = keyword.kwlist\n",
        "\n",
        "# Print the keywords\n",
        "print(\"Python Keywords:\")\n",
        "for kw in keywords:\n",
        "    print(kw)\n",
        "```\n",
        "\n",
        "---\n",
        "\n",
        "###  Output\n",
        "\n",
        "```\n",
        "Python Keywords:\n",
        "False\n",
        "None\n",
        "True\n",
        "and\n",
        "as\n",
        "assert\n",
        "async\n",
        "await\n",
        "break\n",
        "class\n",
        "continue\n",
        "...\n",
        "```\n",
        "\n",
        "This program will display all the keywords **based on your Python version**.\n",
        "\n"
      ],
      "metadata": {
        "id": "fR_wf28vQXiT"
      }
    },
    {
      "cell_type": "markdown",
      "source": [
        "**4**. Write a program that checks if a given word is a Python keyword.\n",
        "\n",
        "   ->Python program that **checks if a given word is a Python keyword** using the `keyword` module:\n",
        "\n",
        "```python\n",
        "# Import the keyword module\n",
        "import keyword\n",
        "\n",
        "# Take input from the user\n",
        "word = input(\"Enter a word to check: \")\n",
        "\n",
        "# Check if the word is a Python keyword\n",
        "if keyword.iskeyword(word):\n",
        "    print(f\" '{word}' is a Python keyword.\")\n",
        "else:\n",
        "    print(f\" '{word}' is NOT a Python keyword.\")\n",
        "```\n",
        "\n",
        "---\n",
        "\n",
        "###  Example Run:\n",
        "\n",
        "```\n",
        "Enter a word to check: for\n",
        " 'for' is a Python keyword.\n",
        "```\n",
        "\n",
        "```\n",
        "Enter a word to check: hello\n",
        " 'hello' is NOT a Python keyword.\n",
        "```\n",
        "\n"
      ],
      "metadata": {
        "id": "eYzl9GJbRsIy"
      }
    },
    {
      "cell_type": "markdown",
      "source": [
        "**6**. Write a function to demonstrate the behavior of mutable and immutable arguments.\n",
        "\n",
        "   -> Python function that **demonstrates the behavior of mutable and immutable arguments**:\n",
        "\n",
        "---\n",
        "\n",
        "###  Python Code Example:\n",
        "\n",
        "```python\n",
        "# Function to modify both mutable and immutable arguments\n",
        "def modify_values(num, num_list):\n",
        "    print(\"Inside function (before change):\")\n",
        "    print(\"  num =\", num)\n",
        "    print(\"  num_list =\", num_list)\n",
        "\n",
        "    # Try modifying the arguments\n",
        "    num += 10           # This won't affect the original 'num' (immutable)\n",
        "    num_list.append(4)  # This will affect the original 'num_list' (mutable)\n",
        "\n",
        "    print(\"Inside function (after change):\")\n",
        "    print(\"  num =\", num)\n",
        "    print(\"  num_list =\", num_list)\n",
        "\n",
        "# Define immutable and mutable objects\n",
        "a = 5                   # immutable (int)\n",
        "b = [1, 2, 3]           # mutable (list)\n",
        "\n",
        "# Call the function\n",
        "modify_values(a, b)\n",
        "\n",
        "# Show result outside the function\n",
        "print(\"Outside function:\")\n",
        "print(\"  a =\", a)        # Remains unchanged\n",
        "print(\"  b =\", b)        # Changed\n",
        "```\n",
        "\n",
        "---\n",
        "\n",
        "###  Output:\n",
        "\n",
        "```\n",
        "Inside function (before change):\n",
        "  num = 5\n",
        "  num_list = [1, 2, 3]\n",
        "Inside function (after change):\n",
        "  num = 15\n",
        "  num_list = [1, 2, 3, 4]\n",
        "\n",
        "Outside function:\n",
        "  a = 5\n",
        "  b = [1, 2, 3, 4]\n",
        "```\n",
        "\n"
      ],
      "metadata": {
        "id": "ohhRjNnnSai0"
      }
    },
    {
      "cell_type": "markdown",
      "source": [
        " 7. Write a program that performs basic arithmetic operations on two user-input numbers.\n",
        "\n",
        "    -> Python program that performs **basic arithmetic operations** (addition, subtraction, multiplication, division) on **two numbers entered by the user**:\n",
        "\n",
        "---\n",
        "\n",
        "###  Python Code:\n",
        "\n",
        "```python\n",
        "# Take input from the user and convert to float\n",
        "num1 = float(input(\"Enter the first number: \"))\n",
        "num2 = float(input(\"Enter the second number: \"))\n",
        "\n",
        "# Perform arithmetic operations\n",
        "addition = num1 + num2\n",
        "subtraction = num1 - num2\n",
        "multiplication = num1 * num2\n",
        "\n",
        "# Handle division by zero\n",
        "if num2 != 0:\n",
        "    division = num1 / num2\n",
        "else:\n",
        "    division = \"Undefined (cannot divide by zero)\"\n",
        "\n",
        "# Display results\n",
        "print(\"\\n--- Results ---\")\n",
        "print(\"Addition:\", addition)\n",
        "print(\"Subtraction:\", subtraction)\n",
        "print(\"Multiplication:\", multiplication)\n",
        "print(\"Division:\", division)\n",
        "```\n",
        "\n",
        "---\n",
        "\n",
        "###   Output:\n",
        "\n",
        "```\n",
        "Enter the first number: 10\n",
        "Enter the second number: 5\n",
        "\n",
        "--- Results ---\n",
        "Addition: 15.0\n",
        "Subtraction: 5.0\n",
        "Multiplication: 50.0\n",
        "Division: 2.0\n",
        "```\n",
        "\n"
      ],
      "metadata": {
        "id": "7lzbHoj1WqAf"
      }
    },
    {
      "cell_type": "markdown",
      "source": [
        " **8**. Write a program to demonstrate the use of logical operators.\n",
        "\n",
        "    -> Python program that demonstrates the use of **logical operators**: `and`, `or`, and `not`.\n",
        "\n",
        "---\n",
        "\n",
        "###  Python Code:\n",
        "\n",
        "```python\n",
        "# Take two numbers from the user\n",
        "a = int(input(\"Enter first number: \"))\n",
        "b = int(input(\"Enter second number: \"))\n",
        "\n",
        "print(\"\\n--- Logical Operator Examples ---\")\n",
        "\n",
        "# and operator: both conditions must be True\n",
        "if a > 0 and b > 0:\n",
        "    print(\" Both numbers are positive (a > 0 and b > 0)\")\n",
        "else:\n",
        "    print(\" At least one number is not positive\")\n",
        "\n",
        "# or operator: at least one condition is True\n",
        "if a > 0 or b > 0:\n",
        "    print(\" At least one number is positive (a > 0 or b > 0)\")\n",
        "else:\n",
        "    print(\" Both numbers are not positive\")\n",
        "\n",
        "# not operator: reverses the condition\n",
        "if not (a < 0):\n",
        "    print(\" a is not negative (not (a < 0))\")\n",
        "else:\n",
        "    print(\" a is negative\")\n",
        "```\n",
        "\n",
        "---\n",
        "\n",
        "## Output:\n",
        "\n",
        "```\n",
        "Enter first number: 5\n",
        "Enter second number: -3\n",
        "\n",
        "--- Logical Operator Examples ---\n",
        " At least one number is not positive\n",
        " At least one number is positive (a > 0 or b > 0)\n",
        " a is not negative (not (a < 0))\n"
      ],
      "metadata": {
        "id": "xpJzXt0jXDkk"
      }
    },
    {
      "cell_type": "markdown",
      "source": [
        " 9. Write a Python program to convert user input from string to integer, float, and boolean types.\n",
        "\n",
        "     ->Python program that takes **user input as a string** and converts it to:\n",
        "\n",
        "* ✅ `int` (Integer)\n",
        "* ✅ `float` (Decimal)\n",
        "* ✅ `bool` (Boolean)\n",
        "\n",
        "---\n",
        "\n",
        "###  Python Code:\n",
        "\n",
        "```python\n",
        "# Take input from the user (input is always a string)\n",
        "user_input = input(\"Enter a value: \")\n",
        "\n",
        "# Convert to integer\n",
        "try:\n",
        "    int_value = int(user_input)\n",
        "    print(\"Integer conversion:\", int_value)\n",
        "except ValueError:\n",
        "    print(\" Cannot convert to integer\")\n",
        "\n",
        "# Convert to float\n",
        "try:\n",
        "    float_value = float(user_input)\n",
        "    print(\"Float conversion:\", float_value)\n",
        "except ValueError:\n",
        "    print(\" Cannot convert to float\")\n",
        "\n",
        "# Convert to boolean\n",
        "bool_value = bool(user_input)\n",
        "print(\"Boolean conversion:\", bool_value)\n",
        "```\n",
        "\n",
        "---\n",
        "\n",
        "## Output:\n",
        "\n",
        "```\n",
        "Enter a value: 0\n",
        "Integer conversion: 0\n",
        "Float conversion: 0.0\n",
        "Boolean conversion: False\n",
        "```\n",
        "\n",
        "```\n",
        "Enter a value: 3.14\n",
        " Cannot convert to integer\n",
        "Float conversion: 3.14\n",
        "Boolean conversion: True\n",
        "```\n",
        "\n"
      ],
      "metadata": {
        "id": "yg-0bUw2X9Cz"
      }
    },
    {
      "cell_type": "markdown",
      "source": [
        " 10. Write code to demonstrate type casting with list elements.\n",
        "\n",
        "     -> Python program that demonstrates **type casting** with elements inside a **list** — for example, converting strings to integers or floats.\n",
        "\n",
        "---\n",
        "\n",
        "###  Python Code: Type Casting List Elements\n",
        "\n",
        "```python\n",
        "# Original list with string numbers\n",
        "str_list = ['10', '20', '30', '40']\n",
        "\n",
        "# Convert string elements to integers\n",
        "int_list = [int(x) for x in str_list]\n",
        "\n",
        "# Convert string elements to floats\n",
        "float_list = [float(x) for x in str_list]\n",
        "\n",
        "# Convert string elements to booleans\n",
        "bool_list = [bool(x) for x in str_list]\n",
        "\n",
        "# Print results\n",
        "print(\"Original list (strings):\", str_list)\n",
        "print(\"Converted to integers:   \", int_list)\n",
        "print(\"Converted to floats:     \", float_list)\n",
        "print(\"Converted to booleans:   \", bool_list)\n",
        "```\n",
        "\n",
        "---\n",
        "\n",
        "###  Output:\n",
        "\n",
        "```\n",
        "Original list (strings): ['10', '20', '30', '40']\n",
        "Converted to integers:    [10, 20, 30, 40]\n",
        "Converted to floats:      [10.0, 20.0, 30.0, 40.0]\n",
        "Converted to booleans:    [True, True, True, True]\n",
        "```\n",
        "\n",
        "---\n",
        "\n"
      ],
      "metadata": {
        "id": "hywD1amWYsG8"
      }
    },
    {
      "cell_type": "markdown",
      "source": [
        "11. Write a program that checks if a number is positive, negative, or zero.\n",
        "\n",
        "    ->simple Python program that **checks if a number is positive, negative, or zero**:\n",
        "\n",
        "---\n",
        "\n",
        "###  Python Code:\n",
        "\n",
        "```python\n",
        "# Take input from the user and convert to float\n",
        "num = float(input(\"Enter a number: \"))\n",
        "\n",
        "# Check the number\n",
        "if num > 0:\n",
        "    print(\"The number is positive.\")\n",
        "elif num < 0:\n",
        "    print(\"The number is negative.\")\n",
        "else:\n",
        "    print(\"The number is zero.\")\n",
        "```\n",
        "\n",
        "---\n",
        "\n",
        "###  Sample Output:\n",
        "\n",
        "```\n",
        "Enter a number: 15\n",
        "The number is positive.\n",
        "```\n",
        "\n",
        "```\n",
        "Enter a number: -8\n",
        "The number is negative.\n",
        "```\n",
        "\n",
        "```\n",
        "Enter a number: 0\n",
        "The number is zero.\n",
        "```\n",
        "\n",
        "\n"
      ],
      "metadata": {
        "id": "3-oI0bGlZI9y"
      }
    },
    {
      "cell_type": "markdown",
      "source": [
        " 12. Write a for loop to print numbers from 1 to 10.\n",
        "\n",
        "     ->\n",
        "     ###  Code\n",
        "\n",
        "```python\n",
        "# Print numbers from 1 to 10\n",
        "for i in range(1, 11):\n",
        "    print(\"Number is:\", i + 1)\n",
        "```\n",
        "\n",
        "---\n",
        "\n",
        "###  Output\n",
        "\n",
        "```\n",
        "Number is: 2\n",
        "Number is: 3\n",
        "...\n",
        "Number is: 11\n",
        "```\n",
        "\n"
      ],
      "metadata": {
        "id": "SL0RfKLWZjxx"
      }
    },
    {
      "cell_type": "markdown",
      "source": [
        " 14. Write a program to reverse a string using a while loop.\n",
        "\n",
        "    ->\n",
        "    ###  Code\n",
        "\n",
        "```python\n",
        "# Reverse a string using while loop\n",
        "text = input(\"Enter a string: \")\n",
        "reversed_text = \"\"\n",
        "i = 0\n",
        "\n",
        "while i < len(text):\n",
        "    reversed_text = reversed_text + text[i]\n",
        "    i -= 1\n",
        "\n",
        "print(\"Reversed string is:\", reversed_text)\n",
        "```\n",
        "\n"
      ],
      "metadata": {
        "id": "NqslQECQa_1n"
      }
    },
    {
      "cell_type": "markdown",
      "source": [
        " 15. Write a Python program to calculate the factorial of a number provided by the user using a while loop.\n",
        "\n",
        "     ->**Python program** to calculate the **factorial of a number using a `while` loop**:\n",
        "\n",
        "---\n",
        "\n",
        "###  **Python Code**\n",
        "\n",
        "```python\n",
        "# Program to calculate factorial using while loop\n",
        "\n",
        "num = int(input(\"Enter a non-negative integer: \"))\n",
        "fact = 1\n",
        "i = 1\n",
        "\n",
        "# Validate input\n",
        "if num < 0:\n",
        "    print(\" Factorial is not defined for negative numbers.\")\n",
        "else:\n",
        "    while i <= num:\n",
        "        fact = fact * i\n",
        "        i += 1\n",
        "    print(\" Factorial of\", num, \"is\", fact)\n",
        "```\n",
        "\n",
        "---\n",
        "\n",
        "###   Output:\n",
        "\n",
        "```\n",
        "Enter a non-negative integer: 5\n",
        " Factorial of 5 is 120\n",
        "```\n",
        "\n",
        "```\n",
        "Enter a non-negative integer: -3\n",
        " Factorial is not defined for negative numbers.\n",
        "```\n",
        "\n"
      ],
      "metadata": {
        "id": "fjIj5p11bq9o"
      }
    }
  ]
}